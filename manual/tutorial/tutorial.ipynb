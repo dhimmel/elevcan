{
 "cells": [
  {
   "cell_type": "markdown",
   "metadata": {},
   "source": [
    "# R tutorial for [*Lung cancer incidence decreases with elevation: evidence for oxygen as an inhaled carcinogen*](https://doi.org/10.7717/peerj.705)\n",
    "\n",
    "This tutorial by Daniel Himmelstein recreates some of the main findings from our study. It is written in R. This file is a Jupyter notebook, but you can copy invidual cells into an interactive R terminal."
   ]
  },
  {
   "cell_type": "markdown",
   "metadata": {},
   "source": [
    "## Packages\n",
    "\n",
    "In general, we use the double colon operator to access functions from packages. So for example to specify the `read_tsv` function in the `readr` package, we use `readr::read_tsv()`. This convention avoids polluting our namespace and clarifies function provenance.\n",
    "\n",
    "This notebook will make use of the following packages, which you may need to install:\n",
    "\n",
    "+ dplyr\n",
    "+ readr\n",
    "+ ggplot2\n",
    "+ glmnet\n",
    "+ broom\n",
    "\n",
    "We do oad dplyr explicitly in order to attach the [pipe operator](http://www.r-statistics.com/2014/08/simpler-r-coding-with-pipes-the-present-and-future-of-the-magrittr-package/) (`%>%`)."
   ]
  },
  {
   "cell_type": "code",
   "execution_count": 1,
   "metadata": {
    "collapsed": false
   },
   "outputs": [],
   "source": [
    "library(dplyr, warn = FALSE)"
   ]
  },
  {
   "cell_type": "markdown",
   "metadata": {},
   "source": [
    "## Read and process data\n",
    "\n",
    "Here we read the county-level dataset compiled for our study. Each row is a county in the United States."
   ]
  },
  {
   "cell_type": "code",
   "execution_count": 2,
   "metadata": {
    "collapsed": false
   },
   "outputs": [
    {
     "data": {
      "text/html": [
       "<table>\n",
       "<thead><tr><th></th><th scope=col>name</th><th scope=col>state</th><th scope=col>fips</th><th scope=col>metro</th><th scope=col>immigration</th><th scope=col>native</th><th scope=col>white</th><th scope=col>black</th><th scope=col>male</th><th scope=col>population</th><th scope=col>elevation</th><th scope=col>high_temp</th><th scope=col>low_temp</th><th scope=col>diurnal_temp</th><th scope=col>particulate</th><th scope=col>precipitation</th><th scope=col>sunlight</th><th scope=col>uvb</th><th scope=col>smoking</th><th scope=col>smoking_lower</th><th scope=col>smoking_upper</th><th scope=col>female_smoking</th><th scope=col>male_smoking</th><th scope=col>radon</th><th scope=col>drinking</th><th scope=col>meat</th><th scope=col>diabetes</th><th scope=col>obesity</th><th scope=col>education</th><th scope=col>income</th><th scope=col>mammogram</th><th scope=col>all_cancer</th><th scope=col>all_cancer_male</th><th scope=col>all_cancer_female</th><th scope=col>colorectal</th><th scope=col>colorectal_lower</th><th scope=col>colorectal_upper</th><th scope=col>breast</th><th scope=col>breast_lower</th><th scope=col>breast_upper</th><th scope=col>prostate</th><th scope=col>prostate_lower</th><th scope=col>prostate_upper</th><th scope=col>lung</th><th scope=col>lung_lower</th><th scope=col>lung_upper</th><th scope=col>female_lung</th><th scope=col>male_lung</th><th scope=col>over_65_lung</th><th scope=col>under_65_lung</th></tr></thead>\n",
       "<tbody>\n",
       "\t<tr><th scope=row>1</th><td>Autauga, AL</td><td>AL</td><td>01001</td><td>1</td><td>25.30968</td><td>0.9</td><td>81.5</td><td>17.3</td><td>48.59289</td><td>43671</td><td>0.11012</td><td>22.82228</td><td>12.95648</td><td>9.865793</td><td>15.41521</td><td>3.703882</td><td>16875.17</td><td>1180.577</td><td>48.6</td><td>43.1</td><td>54.1</td><td>41.05</td><td>56.9</td><td>0.74</td><td>14</td><td>74</td><td>10.86</td><td>29.8</td><td>21.7</td><td>53.255</td><td>69.7</td><td>460.6</td><td>548.1</td><td>407.2</td><td>57.1</td><td>47.6</td><td>67.8</td><td>117</td><td>99.3</td><td>137</td><td>119</td><td>97.5</td><td>143.6</td><td>81.5</td><td>70.2</td><td>94.1</td><td>55.8</td><td>119.3</td><td>398.1</td><td>35.7</td></tr>\n",
       "\t<tr><th scope=row>2</th><td>Baldwin, AL</td><td>AL</td><td>01003</td><td>0</td><td>24.94654</td><td>1.1</td><td>88.1</td><td>10.5</td><td>49.0318</td><td>140415</td><td>0.04018</td><td>23.87101</td><td>15.95164</td><td>7.919362</td><td>13.35193</td><td>4.454666</td><td>17407.23</td><td>1256.903</td><td>49.9</td><td>45</td><td>54.8</td><td>43.75</td><td>56.6</td><td>0.58</td><td>18</td><td>69</td><td>7.96</td><td>25.9</td><td>26.8</td><td>50.147</td><td>69.9</td><td>444.9</td><td>527.7</td><td>374.8</td><td>40.7</td><td>36.9</td><td>44.7</td><td>120.2</td><td>111.1</td><td>129.9</td><td>155.1</td><td>144.7</td><td>166.2</td><td>67.9</td><td>63.1</td><td>73</td><td>55</td><td>82.8</td><td>363.7</td><td>25.1</td></tr>\n",
       "</tbody>\n",
       "</table>\n"
      ],
      "text/latex": [
       "\\begin{tabular}{r|llllllllllllllllllllllllllllllllllllllllllllllllll}\n",
       "  & name & state & fips & metro & immigration & native & white & black & male & population & elevation & high_temp & low_temp & diurnal_temp & particulate & precipitation & sunlight & uvb & smoking & smoking_lower & smoking_upper & female_smoking & male_smoking & radon & drinking & meat & diabetes & obesity & education & income & mammogram & all_cancer & all_cancer_male & all_cancer_female & colorectal & colorectal_lower & colorectal_upper & breast & breast_lower & breast_upper & prostate & prostate_lower & prostate_upper & lung & lung_lower & lung_upper & female_lung & male_lung & over_65_lung & under_65_lung\\\\\n",
       "\\hline\n",
       "\t1 & Autauga, AL & AL & 01001 & 1 & 25.30968 & 0.9 & 81.5 & 17.3 & 48.59289 & 43671 & 0.11012 & 22.82228 & 12.95648 & 9.865793 & 15.41521 & 3.703882 & 16875.17 & 1180.577 & 48.6 & 43.1 & 54.1 & 41.05 & 56.9 & 0.74 & 14 & 74 & 10.86 & 29.8 & 21.7 & 53.255 & 69.7 & 460.6 & 548.1 & 407.2 & 57.1 & 47.6 & 67.8 & 117 & 99.3 & 137 & 119 & 97.5 & 143.6 & 81.5 & 70.2 & 94.1 & 55.8 & 119.3 & 398.1 & 35.7\\\\\n",
       "\t2 & Baldwin, AL & AL & 01003 & 0 & 24.94654 & 1.1 & 88.1 & 10.5 & 49.0318 & 140415 & 0.04018 & 23.87101 & 15.95164 & 7.919362 & 13.35193 & 4.454666 & 17407.23 & 1256.903 & 49.9 & 45 & 54.8 & 43.75 & 56.6 & 0.58 & 18 & 69 & 7.96 & 25.9 & 26.8 & 50.147 & 69.9 & 444.9 & 527.7 & 374.8 & 40.7 & 36.9 & 44.7 & 120.2 & 111.1 & 129.9 & 155.1 & 144.7 & 166.2 & 67.9 & 63.1 & 73 & 55 & 82.8 & 363.7 & 25.1\\\\\n",
       "\\end{tabular}\n"
      ],
      "text/plain": [
       "Source: local data frame [2 x 50]\n",
       "\n",
       "         name state  fips metro immigration native white black     male\n",
       "        (chr) (chr) (chr) (int)       (dbl)  (dbl) (dbl) (dbl)    (dbl)\n",
       "1 Autauga, AL    AL 01001     1    25.30968    0.9  81.5  17.3 48.59289\n",
       "2 Baldwin, AL    AL 01003     0    24.94654    1.1  88.1  10.5 49.03180\n",
       "Variables not shown: population (int), elevation (dbl), high_temp (dbl),\n",
       "  low_temp (dbl), diurnal_temp (dbl), particulate (dbl), precipitation (dbl),\n",
       "  sunlight (dbl), uvb (dbl), smoking (dbl), smoking_lower (dbl), smoking_upper\n",
       "  (dbl), female_smoking (dbl), male_smoking (dbl), radon (dbl), drinking (int),\n",
       "  meat (int), diabetes (dbl), obesity (dbl), education (dbl), income (dbl),\n",
       "  mammogram (dbl), all_cancer (dbl), all_cancer_male (dbl), all_cancer_female\n",
       "  (dbl), colorectal (dbl), colorectal_lower (dbl), colorectal_upper (dbl),\n",
       "  breast (dbl), breast_lower (dbl), breast_upper (dbl), prostate (dbl),\n",
       "  prostate_lower (dbl), prostate_upper (dbl), lung (dbl), lung_lower (dbl),\n",
       "  lung_upper (dbl), female_lung (dbl), male_lung (dbl), over_65_lung (dbl),\n",
       "  under_65_lung (dbl)"
      ]
     },
     "execution_count": 2,
     "metadata": {},
     "output_type": "execute_result"
    }
   ],
   "source": [
    "url = 'https://github.com/dhimmel/elevcan/raw/0330d37345c568250b05aedc3161183589a1edba/data/county-data.txt'\n",
    "county_df = readr::read_tsv(url)\n",
    "head(county_df, 2)"
   ]
  },
  {
   "cell_type": "code",
   "execution_count": 3,
   "metadata": {
    "collapsed": false
   },
   "outputs": [
    {
     "data": {
      "text/html": [
       "3142"
      ],
      "text/latex": [
       "3142"
      ],
      "text/markdown": [
       "3142"
      ],
      "text/plain": [
       "[1] 3142"
      ]
     },
     "execution_count": 3,
     "metadata": {},
     "output_type": "execute_result"
    }
   ],
   "source": [
    "# number of counties\n",
    "nrow(county_df)"
   ]
  },
  {
   "cell_type": "markdown",
   "metadata": {},
   "source": [
    "### Filter counties\n",
    "\n",
    "Our analysis focused on 10 states that varied substantially in elevation. When designing an experiment, always try to maximize the variation in your variable of interest. We [filtered many counties](https://peerj.com/articles/705/#p-17) for quality control reasons."
   ]
  },
  {
   "cell_type": "code",
   "execution_count": 4,
   "metadata": {
    "collapsed": false
   },
   "outputs": [
    {
     "data": {
      "text/html": [
       "259"
      ],
      "text/latex": [
       "259"
      ],
      "text/markdown": [
       "259"
      ],
      "text/plain": [
       "[1] 259"
      ]
     },
     "execution_count": 4,
     "metadata": {},
     "output_type": "execute_result"
    }
   ],
   "source": [
    "states <- c('AZ', 'CA', 'CO', 'ID', 'MT', 'NV', 'NM', 'OR', 'UT', 'WA', 'WY')\n",
    "\n",
    "county_df = county_df %>%\n",
    "  dplyr::filter(state %in% states) %>%\n",
    "  dplyr::filter(population >= 1e4) %>%\n",
    "  dplyr::filter(native <= 25) %>%\n",
    "  dplyr::filter(immigration <= 40)\n",
    "\n",
    "nrow(county_df)"
   ]
  },
  {
   "cell_type": "markdown",
   "metadata": {},
   "source": [
    "### Add additional variables\n",
    "\n",
    "We calculate a weight for each county which we use as weights in the regression. The weights account for the increased confidence we have in the measurements for high-population counties. We also calculate the rate of all other cancers besides lung (`no_lung`) to use as a predictor in our model."
   ]
  },
  {
   "cell_type": "code",
   "execution_count": 5,
   "metadata": {
    "collapsed": false
   },
   "outputs": [],
   "source": [
    "county_df = county_df %>%\n",
    "  dplyr::mutate(no_lung = all_cancer - lung) %>%\n",
    "  dplyr::mutate(weight = pmin(sqrt(population), 500))"
   ]
  },
  {
   "cell_type": "markdown",
   "metadata": {},
   "source": [
    "### Create a lung cancer specific dataset\n",
    "\n",
    "We identified 11 covariates in addition to elevation to assess for lung cancer. Below we create a dataset with only the relevant variables and remove counties with any missing data."
   ]
  },
  {
   "cell_type": "code",
   "execution_count": 6,
   "metadata": {
    "collapsed": false
   },
   "outputs": [
    {
     "data": {
      "text/html": [
       "253"
      ],
      "text/latex": [
       "253"
      ],
      "text/markdown": [
       "253"
      ],
      "text/plain": [
       "[1] 253"
      ]
     },
     "execution_count": 6,
     "metadata": {},
     "output_type": "execute_result"
    }
   ],
   "source": [
    "covariates = c(\n",
    "  'metro',\n",
    "  'white',\n",
    "  'black',\n",
    "  'education',\n",
    "  'income',\n",
    "  'obesity',\n",
    "  'no_lung',\n",
    "  'male',\n",
    "  'smoking',\n",
    "  'radon',\n",
    "  'particulate')\n",
    "\n",
    "lung_df = county_df %>%\n",
    "  dplyr::select(name, lung, elevation, one_of(covariates), weight) %>%\n",
    "  na.omit()\n",
    "\n",
    "nrow(lung_df)"
   ]
  },
  {
   "cell_type": "markdown",
   "metadata": {},
   "source": [
    "## Plot lung cancer versus elevation\n",
    "\n",
    "This bivariate scatterplot shows the same data as [Figure 4A](https://doi.org/10.7717/peerj.705/fig-4)."
   ]
  },
  {
   "cell_type": "code",
   "execution_count": 7,
   "metadata": {
    "collapsed": false
   },
   "outputs": [
    {
     "data": {
      "image/png": "[encoded data removed]",
      "text/plain": [
       "plot without title"
      ]
     },
     "metadata": {
      "image/svg+xml": {
       "isolated": true
      }
     },
     "output_type": "display_data"
    }
   ],
   "source": [
    "lung_df %>%\n",
    "  ggplot2::ggplot(ggplot2::aes(x = elevation, y = lung)) +\n",
    "  ggplot2::geom_smooth(ggplot2::aes(weight = weight), method = 'lm') + \n",
    "  ggplot2::geom_point(ggplot2::aes(alpha = weight)) +\n",
    "  ggplot2::xlab('Elevation (meters)') + ggplot2::ylab('Lung cancer Incidence') +\n",
    "  ggplot2::theme_bw()"
   ]
  },
  {
   "cell_type": "markdown",
   "metadata": {},
   "source": [
    "## Best-subset linear model\n",
    "\n",
    "We used best-subset regression to evaluate all possible predictor combinations. Here we take the predictors from the BIC-minimizing model and fit the linear model."
   ]
  },
  {
   "cell_type": "code",
   "execution_count": 8,
   "metadata": {
    "collapsed": false
   },
   "outputs": [],
   "source": [
    "# Fit the model\n",
    "model = lm('lung ~ smoking + elevation + no_lung + black + education', data = lung_df, weight = weight)"
   ]
  },
  {
   "cell_type": "code",
   "execution_count": 9,
   "metadata": {
    "collapsed": false
   },
   "outputs": [
    {
     "data": {
      "text/html": [
       "<table>\n",
       "<thead><tr><th></th><th scope=col>term</th><th scope=col>estimate</th><th scope=col>std.error</th><th scope=col>statistic</th><th scope=col>p.value</th></tr></thead>\n",
       "<tbody>\n",
       "\t<tr><th scope=row>1</th><td>(Intercept)</td><td>-14.85408</td><td>6.779758</td><td>-2.190945</td><td>0.0293905</td></tr>\n",
       "\t<tr><th scope=row>2</th><td>smoking</td><td>1.440257</td><td>0.09678763</td><td>14.88059</td><td>3.460723e-36</td></tr>\n",
       "\t<tr><th scope=row>3</th><td>elevation</td><td>-7.234103</td><td>0.793121</td><td>-9.121059</td><td>2.688957e-17</td></tr>\n",
       "\t<tr><th scope=row>4</th><td>no_lung</td><td>0.05112451</td><td>0.01708235</td><td>2.992826</td><td>0.003044367</td></tr>\n",
       "\t<tr><th scope=row>5</th><td>black</td><td>0.6709068</td><td>0.1719983</td><td>3.90066</td><td>0.000123714</td></tr>\n",
       "\t<tr><th scope=row>6</th><td>education</td><td>-0.4334022</td><td>0.05503473</td><td>-7.875067</td><td>1.077715e-13</td></tr>\n",
       "</tbody>\n",
       "</table>\n"
      ],
      "text/latex": [
       "\\begin{tabular}{r|lllll}\n",
       "  & term & estimate & std.error & statistic & p.value\\\\\n",
       "\\hline\n",
       "\t1 & (Intercept) & -14.85408 & 6.779758 & -2.190945 & 0.0293905\\\\\n",
       "\t2 & smoking & 1.440257 & 0.09678763 & 14.88059 & 3.460723e-36\\\\\n",
       "\t3 & elevation & -7.234103 & 0.793121 & -9.121059 & 2.688957e-17\\\\\n",
       "\t4 & no_lung & 0.05112451 & 0.01708235 & 2.992826 & 0.003044367\\\\\n",
       "\t5 & black & 0.6709068 & 0.1719983 & 3.90066 & 0.000123714\\\\\n",
       "\t6 & education & -0.4334022 & 0.05503473 & -7.875067 & 1.077715e-13\\\\\n",
       "\\end{tabular}\n"
      ],
      "text/plain": [
       "         term     estimate  std.error statistic      p.value\n",
       "1 (Intercept) -14.85407748 6.77975797 -2.190945 2.939050e-02\n",
       "2     smoking   1.44025690 0.09678763 14.880588 3.460723e-36\n",
       "3   elevation  -7.23410337 0.79312100 -9.121059 2.688957e-17\n",
       "4     no_lung   0.05112451 0.01708235  2.992826 3.044367e-03\n",
       "5       black   0.67090677 0.17199826  3.900660 1.237140e-04\n",
       "6   education  -0.43340219 0.05503473 -7.875067 1.077715e-13"
      ]
     },
     "execution_count": 9,
     "metadata": {},
     "output_type": "execute_result"
    }
   ],
   "source": [
    "# View the model coefficients\n",
    "coef_df = broom::tidy(model)\n",
    "coef_df"
   ]
  },
  {
   "cell_type": "code",
   "execution_count": 10,
   "metadata": {
    "collapsed": false
   },
   "outputs": [
    {
     "data": {
      "text/html": [
       "<table>\n",
       "<thead><tr><th></th><th scope=col>r.squared</th><th scope=col>adj.r.squared</th><th scope=col>sigma</th><th scope=col>statistic</th><th scope=col>p.value</th><th scope=col>df</th><th scope=col>logLik</th><th scope=col>AIC</th><th scope=col>BIC</th><th scope=col>deviance</th><th scope=col>df.residual</th></tr></thead>\n",
       "<tbody>\n",
       "\t<tr><th scope=row>1</th><td>0.7024248</td><td>0.6964011</td><td>131.2217</td><td>116.6085</td><td>6.049589e-63</td><td>6</td><td>-897.7659</td><td>1809.532</td><td>1834.266</td><td>4253129</td><td>247</td></tr>\n",
       "</tbody>\n",
       "</table>\n"
      ],
      "text/latex": [
       "\\begin{tabular}{r|lllllllllll}\n",
       "  & r.squared & adj.r.squared & sigma & statistic & p.value & df & logLik & AIC & BIC & deviance & df.residual\\\\\n",
       "\\hline\n",
       "\t1 & 0.7024248 & 0.6964011 & 131.2217 & 116.6085 & 6.049589e-63 & 6 & -897.7659 & 1809.532 & 1834.266 & 4253129 & 247\\\\\n",
       "\\end{tabular}\n"
      ],
      "text/plain": [
       "  r.squared adj.r.squared    sigma statistic      p.value df    logLik      AIC\n",
       "1 0.7024248     0.6964011 131.2217  116.6085 6.049589e-63  6 -897.7659 1809.532\n",
       "       BIC deviance df.residual\n",
       "1 1834.266  4253129         247"
      ]
     },
     "execution_count": 10,
     "metadata": {},
     "output_type": "execute_result"
    }
   ],
   "source": [
    "# Summarize the overall model fit\n",
    "broom::glance(model)"
   ]
  },
  {
   "cell_type": "markdown",
   "metadata": {},
   "source": [
    "#### Compute standardized coefficients\n",
    "\n",
    "Standardized coefficients allow us to compare effect sizes between variables. These standardized coefficients are reported in [Figure 3A](https://doi.org/10.7717/peerj.705/fig-3)."
   ]
  },
  {
   "cell_type": "code",
   "execution_count": 11,
   "metadata": {
    "collapsed": true
   },
   "outputs": [],
   "source": [
    "weighted.sd <- function(x, w) {\n",
    "  # Weighted standard deviation\n",
    "  # http://stats.stackexchange.com/a/6536/74908\n",
    "  numerator = sum(w * (x - weighted.mean(x, w)) ^ 2)\n",
    "  M = sum(w != 0)\n",
    "  denominator = (M - 1) / M * sum(w)\n",
    "  return(sqrt(numerator / denominator))\n",
    "}"
   ]
  },
  {
   "cell_type": "code",
   "execution_count": 12,
   "metadata": {
    "collapsed": false
   },
   "outputs": [
    {
     "data": {
      "text/html": [
       "<dl class=dl-horizontal>\n",
       "\t<dt>smoking</dt>\n",
       "\t\t<dd>0.585479432787212</dd>\n",
       "\t<dt>elevation</dt>\n",
       "\t\t<dd>-0.354751971504714</dd>\n",
       "\t<dt>no_lung</dt>\n",
       "\t\t<dd>0.121633937567613</dd>\n",
       "\t<dt>black</dt>\n",
       "\t\t<dd>0.148946139270269</dd>\n",
       "\t<dt>education</dt>\n",
       "\t\t<dd>-0.303981290117252</dd>\n",
       "</dl>\n"
      ],
      "text/latex": [
       "\\begin{description*}\n",
       "\\item[smoking] 0.585479432787212\n",
       "\\item[elevation] -0.354751971504714\n",
       "\\item[no_lung] 0.121633937567613\n",
       "\\item[black] 0.148946139270269\n",
       "\\item[education] -0.303981290117252\n",
       "\\end{description*}\n"
      ],
      "text/markdown": [
       "smoking\n",
       ":   0.585479432787212elevation\n",
       ":   -0.354751971504714no_lung\n",
       ":   0.121633937567613black\n",
       ":   0.148946139270269education\n",
       ":   -0.303981290117252\n",
       "\n"
      ],
      "text/plain": [
       "   smoking  elevation    no_lung      black  education \n",
       " 0.5854794 -0.3547520  0.1216339  0.1489461 -0.3039813 "
      ]
     },
     "execution_count": 12,
     "metadata": {},
     "output_type": "execute_result"
    }
   ],
   "source": [
    "sd_y = weighted.sd(lung_df$lung, lung_df$weight)\n",
    "sd_x = apply(lung_df[coef_df$term[-1]], 2, weighted.sd, w = lung_df$weight)\n",
    "coef_df$estimate[-1] * sd_x / sd_y"
   ]
  },
  {
   "cell_type": "markdown",
   "metadata": {},
   "source": [
    "## Lasso model\n",
    "\n",
    "Since the best-subset approach is prone to overfitting, we also fit a lasso model. The lasso model uses cross-validation to find an optimal penalty of complexity, which in effect prevents overfitting."
   ]
  },
  {
   "cell_type": "code",
   "execution_count": 13,
   "metadata": {
    "collapsed": false
   },
   "outputs": [],
   "source": [
    "x_matrix = lung_df %>%\n",
    "  dplyr::select(elevation, one_of(covariates)) %>%\n",
    "  as.matrix()\n",
    "y = lung_df$lung\n",
    "w = lung_df$weight\n",
    "\n",
    "# Fit the lasso using cross validation\n",
    "lasso = glmnet::cv.glmnet(x = x_matrix, y = y, weights = w)"
   ]
  },
  {
   "cell_type": "code",
   "execution_count": 14,
   "metadata": {
    "collapsed": false
   },
   "outputs": [
    {
     "data": {
      "text/plain": [
       "13 x 1 sparse Matrix of class \"dgCMatrix\"\n",
       "                      1\n",
       "(Intercept)  0.72552620\n",
       "elevation   -6.68174482\n",
       "metro        .         \n",
       "white        .         \n",
       "black        0.24769996\n",
       "education   -0.30998886\n",
       "income       .         \n",
       "obesity      .         \n",
       "no_lung      0.02252882\n",
       "male         .         \n",
       "smoking      1.29573258\n",
       "radon       -0.19956167\n",
       "particulate  .         "
      ]
     },
     "execution_count": 14,
     "metadata": {},
     "output_type": "execute_result"
    }
   ],
   "source": [
    "# Coefficients from the lasso model\n",
    "coef(lasso, s = 'lambda.1se')"
   ]
  },
  {
   "cell_type": "markdown",
   "metadata": {},
   "source": [
    "### Calculate lasso R-squared"
   ]
  },
  {
   "cell_type": "code",
   "execution_count": 15,
   "metadata": {
    "collapsed": true
   },
   "outputs": [],
   "source": [
    "calculate_R2 <- function(y, y_pred, w) {\n",
    "  # Calculate R2 using the Sum of Squares method\n",
    "  # https://en.wikipedia.org/wiki/Coefficient_of_determination#Definitions\n",
    "  ss_residual = sum(w * (y - y_pred) ^ 2)\n",
    "  ss_total = sum(w * (y - weighted.mean(y, w)) ^ 2)\n",
    "  return(1 - ss_residual / ss_total)\n",
    "}"
   ]
  },
  {
   "cell_type": "code",
   "execution_count": 16,
   "metadata": {
    "collapsed": false
   },
   "outputs": [
    {
     "data": {
      "text/html": [
       "0.680556515726018"
      ],
      "text/latex": [
       "0.680556515726018"
      ],
      "text/markdown": [
       "0.680556515726018"
      ],
      "text/plain": [
       "[1] 0.6805565"
      ]
     },
     "execution_count": 16,
     "metadata": {},
     "output_type": "execute_result"
    }
   ],
   "source": [
    "y_pred = predict(lasso, s = 'lambda.1se', newx = x_matrix)[, 1]\n",
    "calculate_R2(y, y_pred, w)"
   ]
  },
  {
   "cell_type": "markdown",
   "metadata": {},
   "source": [
    "As expected the lasso R-squared is lower than the best-subset R-squared. However, the difference is minimal suggesting overfitting was not a major problem."
   ]
  },
  {
   "cell_type": "markdown",
   "metadata": {},
   "source": [
    "## Session info\n",
    "\n",
    "Added for reproducibility."
   ]
  },
  {
   "cell_type": "code",
   "execution_count": 17,
   "metadata": {
    "collapsed": false
   },
   "outputs": [
    {
     "data": {
      "text/plain": [
       "R version 3.2.2 (2015-08-14)\n",
       "Platform: x86_64-apple-darwin11.4.2 (64-bit)\n",
       "Running under: OS X 10.11.3 (El Capitan)\n",
       "\n",
       "locale:\n",
       "[1] en_US.UTF-8/en_US.UTF-8/en_US.UTF-8/C/en_US.UTF-8/en_US.UTF-8\n",
       "\n",
       "attached base packages:\n",
       "[1] stats     graphics  grDevices utils     datasets  methods   base     \n",
       "\n",
       "other attached packages:\n",
       "[1] dplyr_0.4.3\n",
       "\n",
       "loaded via a namespace (and not attached):\n",
       " [1] Rcpp_0.12.2      plyr_1.8.3       iterators_1.0.8  base64enc_0.1-3 \n",
       " [5] tools_3.2.2      digest_0.6.8     uuid_0.1-2       jsonlite_0.9.17 \n",
       " [9] evaluate_0.8     gtable_0.1.2     nlme_3.1-122     lattice_0.20-33 \n",
       "[13] Matrix_1.2-2     psych_1.5.8      foreach_1.4.3    IRdisplay_0.3   \n",
       "[17] DBI_0.3.1        curl_0.9.5       IRkernel_0.5     parallel_3.2.2  \n",
       "[21] proto_0.3-10     rzmq_0.7.7       repr_0.3         stringr_1.0.0   \n",
       "[25] grid_3.2.2       glmnet_2.0-2     R6_2.1.1         ggplot2_1.0.1   \n",
       "[29] reshape2_1.4.1   readr_0.2.2      tidyr_0.3.1      magrittr_1.5    \n",
       "[33] codetools_0.2-14 scales_0.3.0     MASS_7.3-45      assertthat_0.1  \n",
       "[37] mnormt_1.5-3     colorspace_1.2-6 labeling_0.3     stringi_1.0-1   \n",
       "[41] lazyeval_0.1.10  munsell_0.4.2    broom_0.4.0     "
      ]
     },
     "execution_count": 17,
     "metadata": {},
     "output_type": "execute_result"
    }
   ],
   "source": [
    "sessionInfo()"
   ]
  }
 ],
 "metadata": {
  "kernelspec": {
   "display_name": "R",
   "language": "R",
   "name": "ir"
  },
  "language_info": {
   "codemirror_mode": "r",
   "file_extension": ".r",
   "mimetype": "text/x-r-source",
   "name": "R",
   "pygments_lexer": "r",
   "version": "3.2.2"
  }
 },
 "nbformat": 4,
 "nbformat_minor": 0
}
